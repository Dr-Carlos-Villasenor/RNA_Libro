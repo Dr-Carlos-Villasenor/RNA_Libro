{
  "nbformat": 4,
  "nbformat_minor": 0,
  "metadata": {
    "colab": {
      "provenance": [],
      "authorship_tag": "ABX9TyMq5sIy0l83rWIl/Klvf+oO",
      "include_colab_link": true
    },
    "kernelspec": {
      "name": "python3",
      "display_name": "Python 3"
    },
    "language_info": {
      "name": "python"
    }
  },
  "cells": [
    {
      "cell_type": "markdown",
      "metadata": {
        "id": "view-in-github",
        "colab_type": "text"
      },
      "source": [
        "<a href=\"https://colab.research.google.com/github/Dr-Carlos-Villasenor/RNA_Libro/blob/main/P07_13.ipynb\" target=\"_parent\"><img src=\"https://colab.research.google.com/assets/colab-badge.svg\" alt=\"Open In Colab\"/></a>"
      ]
    },
    {
      "cell_type": "markdown",
      "source": [
        "# Redes Neuronales Artificiales\n",
        "# Capítulo 7\n",
        "## Ejercicio práctico 7.13\n",
        "### Convolución en dos dimensiones\n",
        "\n",
        "Elaborado por: Nancy Arana-Daniel, Carlos Lopez-Franco, Javier Gomez-Avila, Carlos Villaseñor\n",
        "\n",
        "\n",
        "(Información del Copyright)\n"
      ],
      "metadata": {
        "id": "gIyradwL1CE2"
      }
    },
    {
      "cell_type": "markdown",
      "source": [
        "1. Corre la siguiente celda de código para instanciar las bibliotecas necesarias"
      ],
      "metadata": {
        "id": "77xIb9tr2SSt"
      }
    },
    {
      "cell_type": "code",
      "source": [
        "import numpy as np\n",
        "import matplotlib.pyplot as plt"
      ],
      "metadata": {
        "id": "BPY2TE-a2PvG"
      },
      "execution_count": 1,
      "outputs": []
    },
    {
      "cell_type": "markdown",
      "source": [
        "2. Subimos la imagen \"Jardines del Castillo de Chapultepec\" (CC BY 2.0)\n",
        "\n"
      ],
      "metadata": {
        "id": "3Sbg_Xmu_hI8"
      }
    },
    {
      "cell_type": "code",
      "source": [
        "!wget \"https://github.com/Dr-Carlos-Villasenor/RNA_libro/raw/main/DataSet/Jardines_del_Castillo_de_Chapultepec.jpg\""
      ],
      "metadata": {
        "id": "HX4DrWXJ-8Ls"
      },
      "execution_count": null,
      "outputs": []
    },
    {
      "cell_type": "markdown",
      "source": [
        "3. Lee la imagen y muestrala"
      ],
      "metadata": {
        "id": "dGH41GjL_5kt"
      }
    },
    {
      "cell_type": "code",
      "source": [
        "I = plt.imread(\"Jardines_del_Castillo_de_Chapultepec.jpg\")\n",
        "print('Tamaño de la imagen: ', I.shape)\n",
        "plt.imshow(I)\n",
        "plt.title(\"Jardines del Castillo de Chapultepec\")"
      ],
      "metadata": {
        "id": "4Y9eFY1u_-zu"
      },
      "execution_count": null,
      "outputs": []
    },
    {
      "cell_type": "markdown",
      "source": [
        "4. Convertimos la imagen a escala de grises."
      ],
      "metadata": {
        "id": "wcPS0LeXAvy1"
      }
    },
    {
      "cell_type": "code",
      "source": [
        "I_gray = np.sum(I, axis=2) / 3\n",
        "print('Tamaño de la imagen: ', I_gray.shape)\n",
        "plt.imshow(I_gray, cmap='gray')\n",
        "plt.title(\"Imagen en escala de grises\")"
      ],
      "metadata": {
        "id": "LfAFnu7uA25F"
      },
      "execution_count": null,
      "outputs": []
    },
    {
      "cell_type": "markdown",
      "source": [
        "5. En el siguiente bloque de código, elabora el algoritmo de la convolución 2D"
      ],
      "metadata": {
        "id": "d4vK9jKs20MM"
      }
    },
    {
      "cell_type": "code",
      "execution_count": 11,
      "metadata": {
        "id": "N_eVBm4dxPqt"
      },
      "outputs": [],
      "source": [
        "# Creamos el siguiente Kernel\n",
        "Kernel = np.array([[-1,0,1],[-2,0,2],[-1,0,1]])\n",
        "\n",
        "\n",
        "def Conv2D(I_gray, Kernel):\n",
        "  '''\n",
        "  Esta función aplica la convolución en 2D del filtro Kernel sobre \n",
        "  la Imagen\n",
        "\n",
        "  Entrada:\n",
        "    -I np.array (nx, ny)\n",
        "    -kernel np.array (fx, fy)\n",
        "\n",
        "  Salida:\n",
        "    - I_filtrada np.array (nx - fx + 1, ny - fy + 1)\n",
        "  '''\n",
        "  \n",
        "  (nx, ny) = I_gray.shape\n",
        "  (fx, fy) = Kernel.shape\n",
        "  I_filtrada = np.zeros((nx - fx + 1, ny - fy + 1))\n",
        "\n",
        "  # Escribe aquí tu código ------------\n",
        "\n",
        "\n",
        "  #------------------------------------\n",
        "\n",
        "  return I_filtrada"
      ]
    },
    {
      "cell_type": "markdown",
      "source": [
        "6. Muestra la imagen filtrada"
      ],
      "metadata": {
        "id": "l-nL0FEUCX1m"
      }
    },
    {
      "cell_type": "code",
      "source": [
        "# Aplicamos filtro sobre la imagen\n",
        "I_filtrada = Conv2D(I_gray, Kernel)\n",
        "\n",
        "# Mostramos la imagen\n",
        "plt.figure()\n",
        "plt.imshow(I_filtrada, cmap='gray')\n",
        "plt.title('Imagen filtrada')"
      ],
      "metadata": {
        "id": "BiWclj3nCc8c"
      },
      "execution_count": null,
      "outputs": []
    }
  ]
}