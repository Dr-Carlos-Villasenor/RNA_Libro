{
  "nbformat": 4,
  "nbformat_minor": 0,
  "metadata": {
    "colab": {
      "provenance": [],
      "authorship_tag": "ABX9TyNzD4vjCqRFJocYZklydCgG",
      "include_colab_link": true
    },
    "kernelspec": {
      "name": "python3",
      "display_name": "Python 3"
    },
    "language_info": {
      "name": "python"
    }
  },
  "cells": [
    {
      "cell_type": "markdown",
      "metadata": {
        "id": "view-in-github",
        "colab_type": "text"
      },
      "source": [
        "<a href=\"https://colab.research.google.com/github/Dr-Carlos-Villasenor/RNA_Libro/blob/main/P07_12.ipynb\" target=\"_parent\"><img src=\"https://colab.research.google.com/assets/colab-badge.svg\" alt=\"Open In Colab\"/></a>"
      ]
    },
    {
      "cell_type": "markdown",
      "source": [
        "# Redes Neuronales Artificiales\n",
        "# Capítulo 7\n",
        "## Ejercicio práctico 7.12\n",
        "### Convolución en una dimensión\n",
        "\n",
        "Elaborado por: Nancy Arana-Daniel, Carlos Lopez-Franco, Javier Gomez-Avila, Carlos Villaseñor\n",
        "\n",
        "\n",
        "(Información del Copyright)\n"
      ],
      "metadata": {
        "id": "gIyradwL1CE2"
      }
    },
    {
      "cell_type": "markdown",
      "source": [
        "1. Corre la siguiente celda de código para instanciar una señal unidimensional y un filtro."
      ],
      "metadata": {
        "id": "77xIb9tr2SSt"
      }
    },
    {
      "cell_type": "code",
      "source": [
        "import numpy as np\n",
        "import matplotlib.pyplot as plt\n",
        "\n",
        "# Señal 1D a tratar\n",
        "Signal = np.array([0,0,0,1,2,5,7,18,25,14,12,56,12,28,12,9,6,4,3,1,0,0])\n",
        "\n",
        "# Filtro o kernel\n",
        "Kernel = np.array([-1, 0, 1])"
      ],
      "metadata": {
        "id": "BPY2TE-a2PvG"
      },
      "execution_count": 2,
      "outputs": []
    },
    {
      "cell_type": "markdown",
      "source": [
        "2. En la siguiente celda de la función que aplica la convolución en una dimensión."
      ],
      "metadata": {
        "id": "d4vK9jKs20MM"
      }
    },
    {
      "cell_type": "code",
      "execution_count": 3,
      "metadata": {
        "id": "N_eVBm4dxPqt"
      },
      "outputs": [],
      "source": [
        "def Conv1D(Signal, Kernel):\n",
        "  '''\n",
        "  Esta función aplica la convolución en 1D del filtro Kernel sobre \n",
        "  la señal Signal\n",
        "\n",
        "  Entrada:\n",
        "    -Signal np.array (n,)\n",
        "    -kernel np.array (f,)\n",
        "\n",
        "  Salida:\n",
        "    - New_Signal np.array (n - f + 1,)\n",
        "  '''\n",
        "  n = Signal.shape[0]\n",
        "  f = Kernel.shape[0]\n",
        "  New_Signal = np.zeros(n - f + 1)\n",
        "  # Escribe aquí tu código ------------\n",
        "\n",
        "\n",
        "  #------------------------------------\n",
        "  return New_Signal"
      ]
    },
    {
      "cell_type": "markdown",
      "source": [
        "3. Muestra tus resultados"
      ],
      "metadata": {
        "id": "dFdXe8FD6trN"
      }
    },
    {
      "cell_type": "code",
      "source": [
        "# Crear figura\n",
        "plt.figure()\n",
        "plt.subplot(2,1,1)\n",
        "plt.plot(Signal)\n",
        "\n",
        "# Aplicar filtrado\n",
        "New_Signal = Conv1D(Signal, Kernel)\n",
        "\n",
        "# Dibujar\n",
        "plt.subplot(2,1,2)\n",
        "plt.plot(New_Signal)\n",
        "plt.suptitle('Convolución 1D')\n",
        "plt.show()"
      ],
      "metadata": {
        "id": "uMlPRYed6yFc"
      },
      "execution_count": null,
      "outputs": []
    }
  ]
}